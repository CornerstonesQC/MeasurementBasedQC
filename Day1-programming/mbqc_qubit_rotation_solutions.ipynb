{
 "cells": [
  {
   "cell_type": "markdown",
   "metadata": {},
   "source": [
    "# Single Qubit Rotations in Measurement Based Quantum Computation"
   ]
  },
  {
   "cell_type": "markdown",
   "metadata": {},
   "source": [
    "In this session you will show how measurements, or more specifically the choice of measurement basis, can be used to perform arbitrary single-qubit rotations. This is one of the ingredients of measurement based quantum computation that you have learned about in the lecture. We will also program a measurement based rotation protocol for a gate model quantum computer!"
   ]
  },
  {
   "cell_type": "markdown",
   "metadata": {},
   "source": [
    "Let us start with the following *half-teleportation circuit*:"
   ]
  },
  {
   "cell_type": "markdown",
   "metadata": {},
   "source": [
    "<div><img src=\"pics/half_tel.jpg\" width=\"310\"></div>"
   ]
  },
  {
   "cell_type": "markdown",
   "metadata": {},
   "source": [
    "Here, the meter symbol indicates a measurement of the observable\n",
    "\n",
    "$$\n",
    "\tO(\\varphi) = \\cos \\varphi X + \\sin \\varphi Y \\,,\n",
    "$$\n",
    "\n",
    "i.e. measurement along a basis in the $x$-$y$-plane with angle $\\varphi$. The measurement basis is graphically shown on the Bloch sphere by the pink arrow below. Note that for readability, the Bloch sphere is rotated from it's 'regular' orientation such that $|+\\rangle$ is on the right side of the sphere, rather than the 'front'.\n",
    "\n",
    "<div><img src=\"pics/basis.svg\" width=\"250\"></div>"
   ]
  },
  {
   "cell_type": "markdown",
   "metadata": {},
   "source": [
    "> ***Exercise 1.*** Verify that the eigenvectors of $O(\\varphi)$ are \n",
    "> \t\n",
    "> $$\\left|\\varphi \\pm \\right> = \\left(e^{-i\\varphi/2}\\left|0\\right> \\pm e^{i\\varphi/2}\n",
    "\t\\left|1\\right> \\right)/\\sqrt{2}$$ \n",
    ">\n",
    "> with eigenvalues $\\pm 1$. These are the two states that our measurement can distinguish.\n",
    "\n",
    "> ***Exercise 2.*** Given an arbitrary input state $\\left|\\psi_{in}\\right> = \\alpha \\left|0\\right> + \\beta\n",
    "\t\\left|1\\right>$, show that $\\left|\\psi_{out}\\right> = \\underbrace{ H e^{i\\varphi\n",
    "\tZ/2}Z^{s}}_{U}\\left|\\psi_{in}\\right>$ where $s$ defines the measured eigenvalue $(-1)^{s}$ of the operator $O(\\varphi)$."
   ]
  },
  {
   "cell_type": "markdown",
   "metadata": {},
   "source": [
    "We can now take four half-teleportation circuits and add them in a chain, feeding each output as input into the next circuit. The result looks like this:"
   ]
  },
  {
   "cell_type": "markdown",
   "metadata": {},
   "source": [
    "<div><img src=\"pics/mbqc_rot.jpg\" width=\"500\"></div>"
   ]
  },
  {
   "cell_type": "markdown",
   "metadata": {},
   "source": [
    "At each stage we perform a measurement in the $x$-$y$-plane, but we allow for differing angles $\\varphi_i$. You have shown in exercise 2 that a single stage acts as a unitary\n",
    "\n",
    "$$\n",
    "U_i = H e^{i\\varphi_i\tZ/2}Z^{s_i}\n",
    "$$\n",
    "\n",
    "on the input state, $\\left|\\psi_{out}\\right> =U_i \\left|\\psi_{in}\\right>$. Thus, a chain with four stages yields the following unitary\n",
    "\n",
    "\n",
    "$$\n",
    "\t\\left|\\psi_{out}\\right> = \n",
    "    U_4 U_3 U_2 U_1 \\left|\\psi_{out}\\right> =\n",
    "\t\\left( He^{-i\\varphi_4 Z/2} Z^{s_4} \\right)\n",
    "\t\\left( He^{-i\\varphi_3 Z/2} Z^{s_3} \\right)\n",
    "\t\\left( He^{-i\\varphi_2 Z/2} Z^{s_2} \\right)\n",
    "\t\\left( He^{-i\\varphi_1 Z/2} Z^{s_1} \\right)\n",
    "\t\\left|\\psi_{in}\\right>\n",
    "$$\n",
    "\n"
   ]
  },
  {
   "cell_type": "markdown",
   "metadata": {},
   "source": [
    "After a bit of algebra and setting $\\varphi_1=0$, the unitary simplifies to (up to a global phase)\n",
    "\n",
    "$$\n",
    "Z^{s_1+s_3} X^{s_2+s_4} \\cdot \n",
    "\\exp \\left\\{i(-1)^{s_1+s_3} \\varphi_4 \\frac{X}{2} \\right\\}\n",
    "\\exp \\left\\{i(-1)^{s_2} \\varphi_3 \\frac{Z}{2} \\right\\}\n",
    "\\exp \\left\\{i(-1)^{s_1} \\varphi_2 \\frac{X}{2} \\right\\} \\,.\n",
    "$$\n",
    "\n",
    "\n",
    "> ***Take-home exercise.*** Perform this simplification yourself. You might find the relation $HZ=XH$ helpful. Also remember the Pauli matrix algebra."
   ]
  },
  {
   "cell_type": "markdown",
   "metadata": {},
   "source": [
    "Finally we set \n",
    "$$\n",
    "\\begin{aligned}\n",
    "    \\varphi_1 &= 0 \\\\\n",
    "\t\\varphi_2 &= -(-1)^{s_1} \\xi \\\\\n",
    "\t\\varphi_3 &= -(-1)^{s_2} \\eta \\\\\n",
    "\t\\varphi_4 &= -(-1)^{s_1+s_3} \\zeta\n",
    "\\end{aligned}\n",
    "$$\n",
    "\n",
    "to get\n",
    "\n",
    "$$\n",
    "\\left|\\psi_{out}\\right> = \\underbrace{Z^{s_1+s_3} X^{s_2+s_4} }_{U_P}\n",
    "\\exp\\left\\{-i\\frac{\\zeta}{2}\\sigma_x\\right\\}\n",
    "\\exp\\left\\{-i\\frac{\\eta}{2}\\sigma_z\\right\\}\n",
    "\\exp\\left\\{-i\\frac{\\xi}{2}\\sigma_x\\right\\}\n",
    "\\left|\\psi_{in}\\right> \\,.\n",
    "$$\n",
    "\n",
    "But the second part is a general qubit rotation with [Euler angles](https://mathworld.wolfram.com/EulerAngles.html) $\\xi,\\eta,\\zeta$! The first bit, $U_P$, is a Pauli correction that comes as an unwanted byproduct. We can remove these Paulis by postprocessing the data.\n",
    "\n",
    "\n",
    "> ***Exercise 3.*** Usually, the order in which the qubits of a quantum circuit are measured, does not matter. Is that also the case for our quantum protocol? In which order should the qubits be measured?"
   ]
  },
  {
   "cell_type": "markdown",
   "metadata": {},
   "source": [
    "## Implementing the MBQC Protocol on a Gate-Based Quantum Computer"
   ]
  },
  {
   "cell_type": "markdown",
   "metadata": {},
   "source": [
    "For MBQC to be useful, we don't want to build cluster states on a gate-based quantum computer. First of all, our circuit above uses five *physical* qubits to implement the rotation of a single *logical* qubit. This is a big qubit overhead. Secondly, measurements on a gate-based quantum computer in the $x$-$y$ plane require the ability to do single qubit rotations, which is the very thing that we want to introduce using the MBQC protocol.\n",
    "\n",
    "The deep idea is to look for some quantum mechanical system that naturally implements most of the MBQC protocol. Specifically, we would like to find some system whose groundstate is the *cluster state*, shown below.\n",
    "\n",
    "<div><img src=\"pics/cluster_state2.jpg\" width=\"300\"></div>\n",
    "\n",
    "One would then perform measurements on it, choosing the order and measurement angles carefully to effectively realize a meaningful quantum computation. \n"
   ]
  },
  {
   "cell_type": "markdown",
   "metadata": {},
   "source": [
    "That being said, let's do some coding anyways to get a better idea of how MBQC works. The first step is to implement the cluster state."
   ]
  },
  {
   "cell_type": "code",
   "execution_count": 1,
   "metadata": {},
   "outputs": [],
   "source": [
    "import pennylane as qml\n",
    "from pennylane import numpy as np\n",
    "\n",
    "shots = 80000\n",
    "dev = qml.device('default.qubit', wires=5, shots=shots)"
   ]
  },
  {
   "cell_type": "markdown",
   "metadata": {},
   "source": [
    "> ***Exercise 4.*** Complete the function `createClusterState` by coding above quantum circuit. You can choose your favorite input state $\\left|\\psi_{in}\\right>$ for this. The input state corresponds to `wires=0`."
   ]
  },
  {
   "cell_type": "code",
   "execution_count": 2,
   "metadata": {},
   "outputs": [],
   "source": [
    "def initializePsi_in():\n",
    "    qml.Hadamard(wires=0)\n",
    "    qml.RZ(np.pi/4, wires=0)\n",
    "\n",
    "def createClusterState():\n",
    "    initializePsi_in()\n",
    "    \n",
    "    qml.Hadamard(wires=1)\n",
    "    qml.Hadamard(wires=2)\n",
    "    qml.Hadamard(wires=3)\n",
    "    qml.Hadamard(wires=4)\n",
    "    \n",
    "    qml.CZ(wires=[0,1])\n",
    "    qml.CZ(wires=[1,2])\n",
    "    qml.CZ(wires=[2,3])\n",
    "    qml.CZ(wires=[3,4])\n",
    "   "
   ]
  },
  {
   "cell_type": "markdown",
   "metadata": {},
   "source": [
    "Next we implement the measurement in the basis specified by the angles $\\varphi_1=0,\\varphi_2,\\varphi_3,\\varphi_4$. We can perform such a measurement by adding single qubit gates that rotate the $\\varphi_i$-basis into the computational basis.\n",
    "\n",
    "A possible approach is to rotate the $\\varphi$ basis around the $z$ axis into the $x$-basis. Then one can apply a Hadamard gate to rotate $x$ into $z$.\n",
    "\n",
    "\n",
    "<div><img src=\"pics/phi_rotation.svg\" width=\"680\"></div>\n",
    "\n",
    "\n",
    "> **Exercise 5.** By completing the function `measurePhiBasis`, perform above described measurement basis rotation on qubits `0-3` using the parameters `phi_2`, `phi_3`, `phi_4`. We have already set $\\varphi_1=0$, so that you won't need a variable `phi_1`.\n"
   ]
  },
  {
   "cell_type": "code",
   "execution_count": 3,
   "metadata": {},
   "outputs": [],
   "source": [
    "def measurePhiBasis(phi_2, phi_3, phi_4):\n",
    "    qml.Hadamard(wires=0)\n",
    "    \n",
    "    qml.RZ(-phi_2, wires=1)\n",
    "    qml.Hadamard(wires=1)\n",
    "    \n",
    "    qml.RZ(-phi_3, wires=2)\n",
    "    qml.Hadamard(wires=2)\n",
    "    \n",
    "    qml.RZ(-phi_4, wires=3)\n",
    "    qml.Hadamard(wires=3)"
   ]
  },
  {
   "cell_type": "markdown",
   "metadata": {},
   "source": [
    "We put all pieces together using the three functions below. To reconstruct the full quantum state, measurement in a single basis is not sufficient, as we have already seen in this workshop. Therefore, we will measure the output qubit in the $x$-, $y$-, and $z$-basis.\n"
   ]
  },
  {
   "cell_type": "code",
   "execution_count": 4,
   "metadata": {},
   "outputs": [],
   "source": [
    "@qml.qnode(dev)\n",
    "def mbqcRotationZ(phi_2, phi_3, phi_4):\n",
    "    createClusterState()\n",
    "    measurePhiBasis(phi_2, phi_3, phi_4)\n",
    "    \n",
    "    return qml.probs(wires=np.arange(5))\n",
    "\n",
    "@qml.qnode(dev)\n",
    "def mbqcRotationX(phi_2, phi_3, phi_4):\n",
    "    createClusterState()\n",
    "    measurePhiBasis(phi_2, phi_3, phi_4)\n",
    "     \n",
    "    qml.Hadamard(wires=4)\n",
    "    return qml.probs(wires=np.arange(5))\n",
    "\n",
    "@qml.qnode(dev)\n",
    "def mbqcRotationY(phi_2, phi_3, phi_4):\n",
    "    createClusterState()\n",
    "    measurePhiBasis(phi_2, phi_3, phi_4)\n",
    "    \n",
    "    qml.S(wires=4).inv()\n",
    "    qml.Hadamard(wires=4)\n",
    "    \n",
    "    return qml.probs(wires=np.arange(5))"
   ]
  },
  {
   "cell_type": "markdown",
   "metadata": {},
   "source": [
    "Finally, we have to discuss the data processing strategy, i.e. how to deal with the byproduct operator $U_P$. A direct application of the Pauli gates on the quantum computer is not possible, since measurements currently cannot depend on outcomes of other measurements. So instead we classically applied the Pauli correction $U_P$ ourselves by post-processing the data.\n",
    "\n",
    "However, now we have an additional problem. The *measurement angles* depend on the outcomes $s_i$ of other measurements, according to \n",
    "\n",
    "$$\n",
    "\\begin{aligned}\n",
    "    \\varphi_1 &= 0 \\\\\n",
    "\t\\varphi_2 &= -(-1)^{s_1} \\xi \\\\\n",
    "\t\\varphi_3 &= -(-1)^{s_2} \\eta \\\\\n",
    "\t\\varphi_4 &= -(-1)^{s_1+s_3} \\zeta\n",
    "\\end{aligned}\n",
    "$$\n",
    "\n",
    "This cannot be easily fixed with a Pauli matrix. Instead, our strategy will be to try all possible combinations of measurements angles, i.e. by running 8 circuits with all possible choices of $s_1,s_2,s_3$. \n",
    "\n",
    "Sometimes our choice of $s_1,s_2,s_3$ will match what we actually measure. In that case we will record the measurement. If our guess was wrong, we will simply discard that measurement result. This process is called *postselection*."
   ]
  },
  {
   "cell_type": "markdown",
   "metadata": {},
   "source": [
    "Let us sum up all steps as pseudocode:"
   ]
  },
  {
   "cell_type": "markdown",
   "metadata": {},
   "source": [
    "<ul>\n",
    "<li>Choose values for $\\xi,\\eta,\\zeta$</li>\n",
    "\n",
    "<li>Create Input state and cluster state</li>\n",
    "\n",
    "<li><code>for</code> all possible combinations of` $s_1,s_2,s_3 = \\{0,1\\}$</li>\n",
    "   \n",
    "<ul>\n",
    "<li>Perform measurement of the first four qubits in the basis specified by\n",
    "\n",
    "$$\n",
    "\\begin{aligned}\n",
    "    \\varphi_1 &= 0 \\qquad\n",
    "\t\\varphi_2 = -(-1)^{s_1} \\xi \\qquad\n",
    "\t\\varphi_3 = -(-1)^{s_2} \\eta \\qquad\n",
    "\t\\varphi_4 = -(-1)^{s_1+s_3} \\zeta\n",
    "\\end{aligned}\n",
    "$$\n",
    "    \n",
    "</li>\n",
    "\n",
    "<li>and measure the last qubit in the $x$-, $y$-, and $z$-basis.</li>\n",
    "        \n",
    "<li>Check if the actually measured values $\\bar{s}_1,\\bar{s}_2,\\bar{s}_3$ agree with our choice of $s_i$, i.e. check that\n",
    "$\\bar{s}_1=s_1$ and $\\bar{s}_2=s_2$ and $\\bar{s}_3=s_3$. </li>\n",
    "    <ul> <li>If no, discard the data.</li>\n",
    "        <li>If yes, keep the data.</li>\n",
    "    </ul>\n",
    "    <li>Apply the Pauli corrections.</li>\n",
    "</ul>\n",
    "\n",
    "<li> Compare the data to the expected result. </li>\n",
    "</ul>"
   ]
  },
  {
   "cell_type": "markdown",
   "metadata": {},
   "source": [
    "> **Take-home exercise.** The postselection and Pauli correction is implemented in the file `postselection.py`. You don't have to worry about it for now, but you are encouraged to have a look at the code later. You may also write your own implementation of above pseudocode. This likely will be a lot of work, but it will intimately make you familiar with the problem."
   ]
  },
  {
   "cell_type": "code",
   "execution_count": 5,
   "metadata": {},
   "outputs": [],
   "source": [
    "# import the file postselection.py\n",
    "from postselection import *    "
   ]
  },
  {
   "cell_type": "markdown",
   "metadata": {},
   "source": [
    "Finally, here is the main routine that calls all our functions and records the processed measurement outcomes `counts_x`, `counts_y`, `counts_z` of the output qubit in the $x$-, $y$-, and $z$-basis."
   ]
  },
  {
   "cell_type": "code",
   "execution_count": 12,
   "metadata": {},
   "outputs": [],
   "source": [
    "# randomly choose Euler angles that define the single-qubit rotation \n",
    "zeta = (np.random.rand()-0.5)*np.pi\n",
    "eta = (np.random.rand()-0.5)*np.pi\n",
    "xi = (np.random.rand()-0.5)*np.pi\n",
    "\n",
    "# these arrays will store measurement results of the output qubit\n",
    "counts_x = np.zeros(2)\n",
    "counts_y = np.zeros(2)\n",
    "counts_z = np.zeros(2)\n",
    "\n",
    "for b in ['000', '001', '010', '011', '100', '101', '110','111']:\n",
    "    # loop through all possible combinations of s1,s2,s3\n",
    "    s1 = int(b[0])\n",
    "    s2 = int(b[1])\n",
    "    s3 = int(b[2])\n",
    "    \n",
    "    # run the quantum circuit with the measurement angles -(-1)**s1*xi, -(-1)**s2*eta, -(-1)**(s1+s3)*zeta\n",
    "    # the output qubit is measured in the x-basis\n",
    "    data = mbqcRotationX(-(-1)**s1*xi, -(-1)**s2*eta, -(-1)**(s1+s3)*zeta) \n",
    "    # postselect the data\n",
    "    counts = postselect(s1, s2, s3, data, 'x', shots)\n",
    "    # add the correct guesses for specific instance of s1,s2,s3 to the total count\n",
    "    counts_x += counts\n",
    "    \n",
    "    # repeat everything but now output qubit is measured in y-basis\n",
    "    data = mbqcRotationY(-(-1)**s1*xi, -(-1)**s2*eta, -(-1)**(s1+s3)*zeta) \n",
    "    counts = postselect(s1, s2, s3, data, 'y', shots)\n",
    "    counts_y += counts\n",
    "    \n",
    "    # and now in z-basis\n",
    "    data = mbqcRotationZ(-(-1)**s1*xi, -(-1)**s2*eta, -(-1)**(s1+s3)*zeta) \n",
    "    counts = postselect(s1, s2, s3, data, 'z', shots)\n",
    "    counts_z += counts\n"
   ]
  },
  {
   "cell_type": "markdown",
   "metadata": {},
   "source": [
    "How do we verify if our qubit has been rotated successfully? A quick way to check is by directly implementing\n",
    "\n",
    "$$\n",
    "\\exp\\left\\{-i\\frac{\\zeta}{2}\\sigma_x\\right\\}\n",
    "\\exp\\left\\{-i\\frac{\\eta}{2}\\sigma_z\\right\\}\n",
    "\\exp\\left\\{-i\\frac{\\xi}{2}\\sigma_x\\right\\}\n",
    "$$\n",
    "\n",
    "using single qubit gates and no additional measurements. \n",
    "\n",
    "> **Exercise 6.** Implement this unitary for a fresh quantum circuit with a single qubit by completing the function below. "
   ]
  },
  {
   "cell_type": "code",
   "execution_count": 13,
   "metadata": {},
   "outputs": [],
   "source": [
    "def qubitRotation(xi, eta, zeta):\n",
    "    initializePsi_in()\n",
    "    \n",
    "    qml.RX(xi, wires=0)\n",
    "    qml.RZ(eta, wires=0)\n",
    "    qml.RX(zeta, wires=0)\n",
    " "
   ]
  },
  {
   "cell_type": "markdown",
   "metadata": {},
   "source": [
    "The resulting state is again measured in the $x$-, $y$-, and $z$-basis."
   ]
  },
  {
   "cell_type": "code",
   "execution_count": 14,
   "metadata": {},
   "outputs": [],
   "source": [
    "@qml.qnode(dev)\n",
    "def qubitRotationZ(xi, eta, zeta):\n",
    "    qubitRotation(xi, eta, zeta)\n",
    "    # return measurement probabilities\n",
    "    return qml.probs(wires=[0])\n",
    "\n",
    "@qml.qnode(dev)\n",
    "def qubitRotationX(xi, eta, zeta):\n",
    "    qubitRotation(xi, eta, zeta)  \n",
    "    # to measure in x-basis, use Hadamard gate to map {|+> ,|->} onto {|0>, |1>}\n",
    "    qml.Hadamard(wires=0)\n",
    "    return qml.probs(wires=[0])\n",
    "\n",
    "@qml.qnode(dev)\n",
    "def qubitRotationY(xi, eta, zeta):\n",
    "    qubitRotation(xi, eta, zeta)\n",
    "    # to measure in y-basis, use (H S^dagger) to map {|y+> ,|y->} onto {|0>, |1>}\n",
    "    qml.S(wires=0).inv()\n",
    "    qml.Hadamard(wires=0)\n",
    "    return qml.probs(wires=[0])"
   ]
  },
  {
   "cell_type": "markdown",
   "metadata": {},
   "source": [
    "Let's compare the two datasets! If you implemented everything correctly, they should agree!"
   ]
  },
  {
   "cell_type": "code",
   "execution_count": 15,
   "metadata": {},
   "outputs": [
    {
     "name": "stdout",
     "output_type": "stream",
     "text": [
      "The MBQC protocoll gave the following probabilities for [|+>,|->]: [0.4303375 0.5711   ]\n",
      "With a direct single qubit gate implementation we get: [0.433 0.567]\n"
     ]
    }
   ],
   "source": [
    "print('The MBQC protocoll gave the following probabilities for [|+>,|->]:',counts_x/shots)\n",
    "print('With a direct single qubit gate implementation we get:', qubitRotationX(xi, eta, zeta))"
   ]
  },
  {
   "cell_type": "code",
   "execution_count": 16,
   "metadata": {},
   "outputs": [
    {
     "name": "stdout",
     "output_type": "stream",
     "text": [
      "The MBQC protocoll gave the following probabilities for [|y+>,|y->]: [0.7061875 0.2929625]\n",
      "With a direct single qubit gate implementation we get: [0.7047875 0.2952125]\n"
     ]
    }
   ],
   "source": [
    "print('The MBQC protocoll gave the following probabilities for [|y+>,|y->]:',counts_y/shots)\n",
    "print('With a direct single qubit gate implementation we get:', qubitRotationY(xi, eta, zeta))"
   ]
  },
  {
   "cell_type": "code",
   "execution_count": 17,
   "metadata": {
    "scrolled": true
   },
   "outputs": [
    {
     "name": "stdout",
     "output_type": "stream",
     "text": [
      "The MBQC protocoll gave the following probabilities for [|0>,|1>]: [0.0493625 0.950325 ]\n",
      "With a direct single qubit gate implementation we get: [0.0501 0.9499]\n"
     ]
    }
   ],
   "source": [
    "print('The MBQC protocoll gave the following probabilities for [|0>,|1>]:',counts_z/shots)\n",
    "print('With a direct single qubit gate implementation we get:', qubitRotationZ(xi, eta, zeta))"
   ]
  },
  {
   "cell_type": "markdown",
   "metadata": {},
   "source": [
    "> ***Exercise 7.*** You have chosen input state $\\left|\\psi_{in}\\right>$ in your definition of the function `initializePsi_in`. Test at least one more input state and verify that the MBQC protocol still works as expected."
   ]
  }
 ],
 "metadata": {
  "kernelspec": {
   "display_name": "Python 3",
   "language": "python",
   "name": "python3"
  },
  "language_info": {
   "codemirror_mode": {
    "name": "ipython",
    "version": 3
   },
   "file_extension": ".py",
   "mimetype": "text/x-python",
   "name": "python",
   "nbconvert_exporter": "python",
   "pygments_lexer": "ipython3",
   "version": "3.8.10"
  }
 },
 "nbformat": 4,
 "nbformat_minor": 4
}
